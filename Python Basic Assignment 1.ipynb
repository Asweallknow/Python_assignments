{
 "cells": [
  {
   "cell_type": "raw",
   "id": "4d4ca88a",
   "metadata": {},
   "source": [
    "1. In the below elements which of them are values or an expression? eg:- values can be integer or string and expressions will be mathematical operators.\n",
    "\n",
    "* is mathematical expression.\n",
    "\n",
    "'hello' is a value.\n",
    "\n",
    "-87.8 is a value\n",
    "\n",
    "- is a mathematical expression.\n",
    "\n",
    "/ is a mathematical expression.\n",
    "\n",
    "+ is a mathematical expression.\n",
    "\n",
    "6 is an value"
   ]
  },
  {
   "cell_type": "raw",
   "id": "931fd500",
   "metadata": {},
   "source": [
    "2. What is the difference between string and variable?\n",
    "- A string is a value  which is enclosed by single quotes(' '), double quotes(\" \") or triple quotes(''' ''') whereas a varibale is an entity which can store int, float, string etc. Also, a variable can store a string but a string can not hold a varible."
   ]
  },
  {
   "cell_type": "raw",
   "id": "03b46416",
   "metadata": {},
   "source": [
    "3. Describe three different data types.\n",
    "- Following are the different types of data types.\n",
    "    a. Int - Int or Integer contains positive or negative whole numbers without fraction or decimal.\n",
    "    b. String - String is a collection of characters put in single, double or triple quotes.\n",
    "    c. Float - Float is a real number with floating point representation. It is specified by a decimal point.\n",
    "    d. List - List is a collection of ordered data. Items in the list do not need to be of same data type.\n",
    "    e. Tuple - Tuple is a collection of ordered data but they are also immutable i.e. they cannot be modified after creation.\n",
    "    f. Set - Set is an unordered collection of data type which is iterable, mutable and has no duplicate elements."
   ]
  },
  {
   "cell_type": "raw",
   "id": "375b389d",
   "metadata": {},
   "source": [
    "4. What is an expression made up of? What do all expressions do?\n",
    "- An expression is a combination of symbols like variables, constants, and operators representing a value. An expression must contain atleast one operand and one or more operators.\n",
    "- Expressions evaluate to a single value."
   ]
  },
  {
   "cell_type": "raw",
   "id": "8fafe903",
   "metadata": {},
   "source": [
    "5. This assignment statements, like spam = 10. What is the difference between an expression and a statement?\n",
    "- An expression evaluates to a single value whereas a statement does not."
   ]
  },
  {
   "cell_type": "raw",
   "id": "fab9ac4e",
   "metadata": {},
   "source": [
    "6. After running the following code, what does the variable bacon contain?\n",
    "bacon = 22\n",
    "bacon + 1\n",
    "- 23"
   ]
  },
  {
   "cell_type": "raw",
   "id": "993e07d4",
   "metadata": {},
   "source": [
    "7. What should the values of the following two terms be?\n",
    "'spam' + 'spamspam'\n",
    "- 'spamspamspam'\n",
    "'spam' * 3\n",
    "- 'spamspamspam'"
   ]
  },
  {
   "cell_type": "raw",
   "id": "9e075820",
   "metadata": {},
   "source": [
    "8. Why is eggs a valid variable name while 100 is invalid?\n",
    "- Variable names cannot start with a number. "
   ]
  },
  {
   "cell_type": "raw",
   "id": "3be1b67c",
   "metadata": {},
   "source": [
    "9. What three functions can be used to get the integer, floating-point number, or string version of a value?\n",
    "- The int(), float(), and str() functions will evaluate to the integer, floating-point number, and string versions of the value passed to them."
   ]
  },
  {
   "cell_type": "raw",
   "id": "690c4847",
   "metadata": {},
   "source": [
    "10. Why does this expression cause an error? How can you fix it?\n",
    "'I have eaten ' + 99 + ' burritos.'\n",
    "- As 99 is stored as an integer value in the memory and str() cannot be concatenated with integer. We will use type casting and change the integer 99 value to the string value as shown below:\n",
    "I have eaten ' + str(99) + ' burritos."
   ]
  }
 ],
 "metadata": {
  "kernelspec": {
   "display_name": "Python 3",
   "language": "python",
   "name": "python3"
  },
  "language_info": {
   "codemirror_mode": {
    "name": "ipython",
    "version": 3
   },
   "file_extension": ".py",
   "mimetype": "text/x-python",
   "name": "python",
   "nbconvert_exporter": "python",
   "pygments_lexer": "ipython3",
   "version": "3.8.8"
  }
 },
 "nbformat": 4,
 "nbformat_minor": 5
}
