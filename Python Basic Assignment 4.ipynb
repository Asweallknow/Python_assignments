{
 "cells": [
  {
   "cell_type": "raw",
   "id": "8e3ef051",
   "metadata": {},
   "source": [
    "1. What exactly is []?\n",
    "- The empty list value, which contacins no items."
   ]
  },
  {
   "cell_type": "raw",
   "id": "ff4a3b77",
   "metadata": {},
   "source": [
    "2. In a list of values stored in a variable called spam, how would you assign the value 'hello' as the third value? (Assume [2, 4, 6, 8, 10] are in spam.)\n",
    "- spam[2] = \"hello"
   ]
  },
  {
   "cell_type": "raw",
   "id": "83bd23ff",
   "metadata": {},
   "source": [
    "Let's pretend the spam includes the list ['a', 'b', 'c', 'd'] for the next three queries."
   ]
  },
  {
   "cell_type": "raw",
   "id": "56299c9f",
   "metadata": {},
   "source": [
    "3. What is the value of spam[int(int('3' * 2) / 11)]?\n",
    "- 'd'"
   ]
  },
  {
   "cell_type": "raw",
   "id": "ea8e2a34",
   "metadata": {},
   "source": [
    "4. What is the value of spam[-1]?\n",
    "- 'd'"
   ]
  },
  {
   "cell_type": "raw",
   "id": "c3f4ef8a",
   "metadata": {},
   "source": [
    "5. What is the value of spam[:2]?\n",
    "- ['a', 'b']"
   ]
  },
  {
   "cell_type": "raw",
   "id": "8e8dcde0",
   "metadata": {},
   "source": [
    "Let's pretend bacon has the list [3.14, 'cat,' 11, 'cat', True] for the next three questions."
   ]
  },
  {
   "cell_type": "raw",
   "id": "d0272e09",
   "metadata": {},
   "source": [
    "6. What is the value of bacon.index('cat')?\n",
    "- 1"
   ]
  },
  {
   "cell_type": "raw",
   "id": "fb9d9537",
   "metadata": {},
   "source": [
    "7. How does bacon.append(99) change the look of the list value in bacon?\n",
    "- [3.14, 'cat,' 11, 'cat', True, 99]"
   ]
  },
  {
   "cell_type": "raw",
   "id": "794f521f",
   "metadata": {},
   "source": [
    "8. How does bacon.remove('cat') change the look of the list in bacon?\n",
    "- [3.14, 11, 'cat', True]"
   ]
  },
  {
   "cell_type": "raw",
   "id": "08ed81ab",
   "metadata": {},
   "source": [
    "9. What are the list concatenation and list replication operators?\n",
    "- The operator for list concatenation is +, while the operator for replication is *."
   ]
  },
  {
   "cell_type": "raw",
   "id": "f10fb2e8",
   "metadata": {},
   "source": [
    "10. What is difference between the list methods append() and insert()?\n",
    "- insert() will add the values anywhere in the list whereas the append() will add the values at the end of the list."
   ]
  },
  {
   "cell_type": "raw",
   "id": "2c81e68d",
   "metadata": {},
   "source": [
    "11. What are the two methods for removing items from a list?\n",
    "- The del statement and the remove()"
   ]
  },
  {
   "cell_type": "raw",
   "id": "c710f237",
   "metadata": {},
   "source": [
    "12. Describe how list values and string values are identical.\n",
    "- Both lists and strings can be passed len(), have indexes and slices, be used in for loops, be concatenated or replicated, and be used with the in and not in operators."
   ]
  },
  {
   "cell_type": "raw",
   "id": "e2cd89a3",
   "metadata": {},
   "source": [
    "13. What's the difference between tuples and lists?\n",
    "- Lists are mutable; they can have values added, removed, or changed. Tuples are immutable; they cannot be changed at all. Also, tuples are written using parentheses, ( and ), while lists use the square brackets, [ and ]."
   ]
  },
  {
   "cell_type": "raw",
   "id": "bb265658",
   "metadata": {},
   "source": [
    "14. How do you type a tuple value that only contains the integer 42?\n",
    "- (42,)"
   ]
  },
  {
   "cell_type": "raw",
   "id": "cc581f31",
   "metadata": {},
   "source": [
    "15. How do you get a list value's tuple form? How do you get a tuple value's list form?\n",
    "- The tuple() and list() functions, respectively"
   ]
  },
  {
   "cell_type": "raw",
   "id": "d45386fd",
   "metadata": {},
   "source": [
    "16. Variables that \"contain\" list values are not necessarily lists themselves. Instead, what do they contain?\n",
    "- They contain references to list values."
   ]
  },
  {
   "cell_type": "raw",
   "id": "799f8bec",
   "metadata": {},
   "source": [
    "17. How do you distinguish between copy.copy() and copy.deepcopy()? \n",
    "- The copy.copy() function will do a shallow copy of a list, while the copy.deepcopy() function will do a deep copy of a list. That is, only copy.deepcopy() will duplicate any lists inside the list."
   ]
  }
 ],
 "metadata": {
  "kernelspec": {
   "display_name": "Python 3",
   "language": "python",
   "name": "python3"
  },
  "language_info": {
   "codemirror_mode": {
    "name": "ipython",
    "version": 3
   },
   "file_extension": ".py",
   "mimetype": "text/x-python",
   "name": "python",
   "nbconvert_exporter": "python",
   "pygments_lexer": "ipython3",
   "version": "3.8.8"
  }
 },
 "nbformat": 4,
 "nbformat_minor": 5
}
