{
 "cells": [
  {
   "cell_type": "raw",
   "id": "35311ac2",
   "metadata": {},
   "source": [
    "1. What are escape characters, and how do you use them?\n",
    "- Escape characters represent characters in string values that would otherwise be difficult or impossible to type into code. In Python strings, the backslash \"\\\" is a special character, also called the \"escape\" character. It is used in representing certain whitespace characters: \"\\t\" is a tab, \"\\n\" is a newline, and \"\\r\" is a carriage return."
   ]
  },
  {
   "cell_type": "raw",
   "id": "e36d203d",
   "metadata": {},
   "source": [
    "2. What do the escape characters n and t stand for?\n",
    "- \\n is a newline; \\t is a tab."
   ]
  },
  {
   "cell_type": "raw",
   "id": "8a538c60",
   "metadata": {},
   "source": [
    "3. What is the way to include backslash characters in a string?\n",
    "- The \\ escape character will represent a backslash character."
   ]
  },
  {
   "cell_type": "raw",
   "id": "cea8bc2a",
   "metadata": {},
   "source": [
    "4. The string \"Howl's Moving Castle\" is a correct value. Why isn't the single quote character in the word Howl's not escaped a problem?\n",
    "- The single quote in Howl's is fine because we have used double quotes to mark the beginning and end of the string."
   ]
  },
  {
   "cell_type": "raw",
   "id": "f07cc524",
   "metadata": {},
   "source": [
    "5. How do you write a string of newlines if you don't want to use the n character?\n",
    "- Multiline strings allow you to use newlines in strings without the \\n escape character."
   ]
  },
  {
   "cell_type": "raw",
   "id": "71cfa7ca",
   "metadata": {},
   "source": [
    "6. What are the values of the given expressions?\n",
    "  'Hello, world!'[1]\n",
    "  - 'e'"
   ]
  },
  {
   "cell_type": "raw",
   "id": "2b622a66",
   "metadata": {},
   "source": [
    "'Hello, world!'[0:5]\n",
    "- 'Hello'"
   ]
  },
  {
   "cell_type": "raw",
   "id": "cb77b388",
   "metadata": {},
   "source": [
    "'Hello, world!'[:5]\n",
    "- 'Hello' "
   ]
  },
  {
   "cell_type": "raw",
   "id": "0e3a26bb",
   "metadata": {},
   "source": [
    "'Hello, world!'[3:]\n",
    "- 'lo, world!'"
   ]
  },
  {
   "cell_type": "raw",
   "id": "328c32d0",
   "metadata": {},
   "source": [
    "7. What are the values of the following expressions?\n",
    "'Hello'.upper()\n",
    "- 'HELLO'"
   ]
  },
  {
   "cell_type": "raw",
   "id": "0561e669",
   "metadata": {},
   "source": [
    "'Hello'.upper().isupper()\n",
    "- True"
   ]
  },
  {
   "cell_type": "raw",
   "id": "f8b13005",
   "metadata": {},
   "source": [
    "'Hello'.upper().lower()\n",
    "- 'hello'"
   ]
  },
  {
   "cell_type": "raw",
   "id": "dda24951",
   "metadata": {},
   "source": [
    "8. What are the values of the following expressions?\n",
    "'Remember, remember, the fifth of July.'.split()\n",
    "- ['Remember,', 'remember,', 'the', 'fifth', 'of', 'July.']"
   ]
  },
  {
   "cell_type": "raw",
   "id": "b8b802be",
   "metadata": {},
   "source": [
    "'-'.join('There can only one.'.split())\n",
    "- 'There-can-only-one.'"
   ]
  },
  {
   "cell_type": "raw",
   "id": "5a2b1eb5",
   "metadata": {},
   "source": [
    "9. What are the methods for right-justifying, left-justifying, and centering a string?\n",
    "- The rjust(), ljust(), and center() string methods, respectively"
   ]
  },
  {
   "cell_type": "raw",
   "id": "326d449d",
   "metadata": {},
   "source": [
    "10. What is the best way to remove whitespace characters from the start or end?\n",
    "- The lstrip() and rstrip() methods remove whitespace from the left and right ends of a string, respectively."
   ]
  }
 ],
 "metadata": {
  "kernelspec": {
   "display_name": "Python 3",
   "language": "python",
   "name": "python3"
  },
  "language_info": {
   "codemirror_mode": {
    "name": "ipython",
    "version": 3
   },
   "file_extension": ".py",
   "mimetype": "text/x-python",
   "name": "python",
   "nbconvert_exporter": "python",
   "pygments_lexer": "ipython3",
   "version": "3.8.8"
  }
 },
 "nbformat": 4,
 "nbformat_minor": 5
}
