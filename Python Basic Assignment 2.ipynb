{
 "cells": [
  {
   "cell_type": "raw",
   "id": "e196fa14",
   "metadata": {},
   "source": [
    "1.What are the two values of the Boolean data type? How do you write them?\n",
    "- Two values of Boolean Data type are True and False. Here, True contains value 1 and False contains value 0.\n",
    "They are written as \n",
    "boolA = True\n",
    "boolB = False "
   ]
  },
  {
   "cell_type": "raw",
   "id": "b608d420",
   "metadata": {},
   "source": [
    "2. What are the three different types of Boolean operators?\n",
    "- Three different types of Boolean operatoers are:\n",
    "The AND operator (&& or “and”)\n",
    "The OR operator (|| or “or”)\n",
    "The NOT operator (not)"
   ]
  },
  {
   "cell_type": "raw",
   "id": "4d6f02fd",
   "metadata": {},
   "source": [
    "3. Make a list of each Boolean operator's truth tables (i.e. every possible combination of Boolean values for the operator and what it evaluate )\n",
    "- The AND operator truth table\n",
    " A  B AandB\n",
    "[0, 0, 0]\n",
    "[0, 1, 0]\n",
    "[1, 1, 1]\n",
    "\n",
    "The OR operator truth table\n",
    " A  B AorB\n",
    "[0, 0, 0]\n",
    "[0, 1, 1]\n",
    "[1, 1, 1]\n",
    "\n",
    "The NOT operator truth table\n",
    " A notA\n",
    "[0, 1]\n",
    "[1, 0]"
   ]
  },
  {
   "cell_type": "raw",
   "id": "34b44617",
   "metadata": {},
   "source": [
    "4. What are the values of the following expressions?\n",
    "(5 > 4) and (3 == 5)\n",
    "- False\n",
    "not (5 > 4)\n",
    "- False\n",
    "(5 > 4) or (3 == 5)\n",
    "- True\n",
    "not ((5 > 4) or (3 == 5))\n",
    "- False\n",
    "(True and True) and (True == False)\n",
    "- False\n",
    "(not False) or (not True)\n",
    "- True"
   ]
  },
  {
   "cell_type": "raw",
   "id": "573abc1e",
   "metadata": {},
   "source": [
    "5. What are the six comparison operators?\n",
    "== -> Equal \n",
    "!= -> Not equal\n",
    "> -> Greater than\n",
    "< -> Less than\n",
    ">= -> Greater than or equal to\n",
    "<= -> Less than or equal to"
   ]
  },
  {
   "cell_type": "raw",
   "id": "75d66b12",
   "metadata": {},
   "source": [
    "6. How do you tell the difference between the equal to and assignment operators?Describe a condition and when you would use one.\n",
    "- =is an assignment operator which is used to assign the value of variable or expression whereas ==is an equal to operator which is used for comparison.\n",
    "Ex. of =is:-\n",
    "a = 10. (it is used to assign a value to the variable, 'a' in this case)\n",
    "Ex. of ==is:-\n",
    "5 == 5. (it is used to compare the left and right side values and evaluate the result in True or False)\n",
    "We can use '=' when we are assigning a value to the variable or an expression and we can use == when we are comparing two sides."
   ]
  },
  {
   "cell_type": "raw",
   "id": "e953655d",
   "metadata": {},
   "source": [
    "7. Identify the three blocks in this code:\n",
    "spam = 0\n",
    "if spam == 10:\n",
    "print('eggs')\n",
    "if spam > 5:\n",
    "print('bacon')\n",
    "else:\n",
    "print('ham')\n",
    "print('spam')\n",
    "print('spam')\n",
    "- spam = 0 #1st block\n",
    "  if spam == 10: #2nd block\n",
    "      print('eggs')\n",
    "      if spam > 5: #3rd block\n",
    "          print('bacon')\n",
    "      else:\n",
    "          print('ham')\n",
    "          print('spam')\n",
    "          print('spam')"
   ]
  },
  {
   "cell_type": "raw",
   "id": "e362627c",
   "metadata": {},
   "source": [
    "8. Write code that prints Hello if 1 is stored in spam, prints Howdy if 2 is stored in spam, and prints Greetings! if anything else is stored in spam.\n",
    "-  if spam == 1: \n",
    "       print('Hello') \n",
    "   elif spam == 2: \n",
    "       print('Howdy') \n",
    "   else: print('Greetings!')"
   ]
  },
  {
   "cell_type": "raw",
   "id": "8fcbf964",
   "metadata": {},
   "source": [
    "9.If your programme is stuck in an endless loop, what keys you’ll press?\n",
    "- Ctrl + c"
   ]
  },
  {
   "cell_type": "raw",
   "id": "d9c98c7b",
   "metadata": {},
   "source": [
    "10. How can you tell the difference between break and continue?\n",
    "- The break statement terminates the rest of remaining iterations of the loop while the continue statement terminates only the current iteration of the loop."
   ]
  },
  {
   "cell_type": "raw",
   "id": "8118ea94",
   "metadata": {},
   "source": [
    "11. In a for loop, what is the difference between range(10), range(0, 10), and range(0, 10, 1)?\n",
    "- There is no diffrence between the range(10), range(0, 10) and range(0, 10, 1). Range by default takes 0 as starting point and 1 as by default increment."
   ]
  },
  {
   "cell_type": "raw",
   "id": "412e5218",
   "metadata": {},
   "source": [
    "12. Write a short program that prints the numbers 1 to 10 using a for loop. \n",
    "- for i in range(1,11) :\n",
    "    print(i)\n",
    "Then write an equivalent program that prints the numbers 1 to 10 using a while loop.\n",
    "- i = 1\n",
    "  while(i <= 10) :\n",
    "      print(i)\n",
    "      i += 1"
   ]
  },
  {
   "cell_type": "raw",
   "id": "a855cd93",
   "metadata": {},
   "source": [
    "13. If you had a function named bacon() inside a module named spam, how would you call it after importing spam?\n",
    "- import spam\n",
    "a = spam.bacon()"
   ]
  }
 ],
 "metadata": {
  "kernelspec": {
   "display_name": "Python 3",
   "language": "python",
   "name": "python3"
  },
  "language_info": {
   "codemirror_mode": {
    "name": "ipython",
    "version": 3
   },
   "file_extension": ".py",
   "mimetype": "text/x-python",
   "name": "python",
   "nbconvert_exporter": "python",
   "pygments_lexer": "ipython3",
   "version": "3.8.8"
  }
 },
 "nbformat": 4,
 "nbformat_minor": 5
}
