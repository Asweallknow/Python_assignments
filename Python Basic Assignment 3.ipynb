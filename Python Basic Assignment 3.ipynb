{
 "cells": [
  {
   "cell_type": "raw",
   "id": "36bd6f2f",
   "metadata": {},
   "source": [
    "1. Why are functions advantageous to have in your programs?\n",
    "- Functions reduce the duplicate code which makes the program shorter, easier to read and easy to update."
   ]
  },
  {
   "cell_type": "raw",
   "id": "05dc3423",
   "metadata": {},
   "source": [
    "2. When does the code in a function run: when it's specified or when it's called?\n",
    "- The code in the function run when it is called. "
   ]
  },
  {
   "cell_type": "raw",
   "id": "98b6e06c",
   "metadata": {},
   "source": [
    "3. What statement creates a function?\n",
    "- The 'def' statement creates a function."
   ]
  },
  {
   "cell_type": "raw",
   "id": "0476d942",
   "metadata": {},
   "source": [
    "4. What is the difference between a function and a function call?\n",
    "- A def function consists of the def statement and the code in its def clause."
   ]
  },
  {
   "cell_type": "raw",
   "id": "15156408",
   "metadata": {},
   "source": [
    "5. How many global scopes are there in a Python program? How many local scopes?\n",
    "- There is only one global scope and the local scope is created whenever a function is called."
   ]
  },
  {
   "cell_type": "raw",
   "id": "2d9f53a6",
   "metadata": {},
   "source": [
    "6. What happens to variables in a local scope when the function call returns?\n",
    "- When a fucntion returns, the local scope is destroyed and all the variables in it are forgotten.  "
   ]
  },
  {
   "cell_type": "raw",
   "id": "4673ca57",
   "metadata": {},
   "source": [
    "7. What is the concept of a return value? Is it possible to have a return value in an expression?\n",
    "- A return value is the value that a function call evaluates to. Like any value, a retun value can be used as a part of the expression."
   ]
  },
  {
   "cell_type": "raw",
   "id": "874b3d75",
   "metadata": {},
   "source": [
    "8. If a function does not have a return statement, what is the return value of a call to that function?\n",
    "- If there is no return value of a call then its return value is None."
   ]
  },
  {
   "cell_type": "raw",
   "id": "57ff082d",
   "metadata": {},
   "source": [
    "9. How do you make a function variable refer to the global variable?\n",
    "- A global statement will force a variable in a function to refer to the global variable."
   ]
  },
  {
   "cell_type": "raw",
   "id": "15e041a9",
   "metadata": {},
   "source": [
    "10. What is the data type of None?\n",
    "- The data type of None is NoneType."
   ]
  },
  {
   "cell_type": "raw",
   "id": "05cceac9",
   "metadata": {},
   "source": [
    "11. What does the sentence import areallyourpetsnamederic do?\n",
    "- The import statement imports a module named areallyourpetsnamederic. "
   ]
  },
  {
   "cell_type": "raw",
   "id": "50f7346b",
   "metadata": {},
   "source": [
    "12. If you had a bacon() feature in a spam module, what would you call it after importing spam?\n",
    "- The function can be called by spam.bacon()."
   ]
  },
  {
   "cell_type": "raw",
   "id": "555c5509",
   "metadata": {},
   "source": [
    "13. What can you do to save a programme from crashing if it encounters an error?\n",
    "- Place the line of code in the try clause that might cause an error."
   ]
  },
  {
   "cell_type": "raw",
   "id": "c2f08291",
   "metadata": {},
   "source": [
    "14. What is the purpose of the try clause? What is the purpose of the except clause?\n",
    "- The code that could potentially cause an error goes in the try clause.\n",
    "  The code that executes if an error happens goes in the except clause. "
   ]
  }
 ],
 "metadata": {
  "kernelspec": {
   "display_name": "Python 3",
   "language": "python",
   "name": "python3"
  },
  "language_info": {
   "codemirror_mode": {
    "name": "ipython",
    "version": 3
   },
   "file_extension": ".py",
   "mimetype": "text/x-python",
   "name": "python",
   "nbconvert_exporter": "python",
   "pygments_lexer": "ipython3",
   "version": "3.8.8"
  }
 },
 "nbformat": 4,
 "nbformat_minor": 5
}
